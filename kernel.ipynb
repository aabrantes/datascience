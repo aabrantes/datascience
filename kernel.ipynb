{
  "cells": [
    {
      "metadata": {
        "_uuid": "df39ae7ca8450cb2ced8f78104ce562074891ecf"
      },
      "cell_type": "markdown",
      "source": "# Especialização em Ciência de Dados - Turma 2018.1 - Facens\n## Aula1 | Exercício 1 (valendo nota)\n\n* **Data de entrega:** 06/nov/2018 07:59\n* **Professor:**  Matheus Mota\n* **Aluno:** \n* **RA:** "
    },
    {
      "metadata": {
        "_uuid": "1d5a911ebf40fb7c2ad909ff461289ef98a7ab60"
      },
      "cell_type": "markdown",
      "source": "## Questão 1\n**Enunciado:**  Este notebook está associado ao *Kaggle Dataset* chamado \"Aula1 | Exercício1\". Este *Kaggle Dataset* possui dois arquivos em formato CSV (anv.csv e BR_eleitorado_2016_municipio ). Escolha um dos datasets disponíveis e já conhecidos, a seu critério. Uma vez definido o csv, escolha no mínimo 7 e no máximo 12 variáveis (colunas) que você avalia como sendo relevantes. Para cada uma das suas variáveis escolhidas, forneça:\n\n\n### Questão 1 - Item A - Classificação das variáveis\n\nClassifique todas as variáveis escolhidas, e construa um dataframe com sua resposta.\nExemplo:"
    },
    {
      "metadata": {
        "trusted": true,
        "_uuid": "1d5545ffa5ab35da8eee6398ea8213a289f365e0"
      },
      "cell_type": "code",
      "source": "import pandas as pd\nresposta = [[\"idade\", \"Quantitativa Discreta\"],[\"sexo\",\"Qualitativa Nominal\"]] #variáveis relacionadas a tempo são contínuas, mas podem ser discretas pois não há perdas -- (discretização)\nresposta = pd.DataFrame(resposta, columns=[\"Variavel\", \"Classificação\"])\nresposta",
      "execution_count": null,
      "outputs": []
    },
    {
      "metadata": {
        "_uuid": "1989b39f076b334cd33a322271606a951c2f81ad"
      },
      "cell_type": "markdown",
      "source": "### Questão 1 - Item B - Tabela de frequência\n\nConstrua uma tabela de frequência para cada uma das **variáveis qualitativas** que você escolheu (caso não tenha escolhido nenhuma, deixe esta questão em branco). Uma dica: a função *value_counts()* do Pandas pode ser muito útil. =)\n"
    },
    {
      "metadata": {
        "_uuid": "8e37baddfa9bd56448ae49518a79016217ae7806"
      },
      "cell_type": "markdown",
      "source": "### Questão 1 - Item C - Representação Gráfica\nPara cada uma das variáveis, produza um ou mais gráficos, usando matplotlib, que descreva seu comportamento / caracteristica. Lembre-se que estes gráficos precisam ser compatíveis com a classificação da variável. "
    },
    {
      "metadata": {
        "_uuid": "b00d8ea458788bb5e3fe07c5ded0bc4d152f8caf"
      },
      "cell_type": "markdown",
      "source": "# Dicas\n\n- Exemplo de acesso aos CSVs disponíveis no dataset\n> df = pd.read_csv('../input/anv.csv', delimiter=',')"
    },
    {
      "metadata": {
        "trusted": true,
        "_uuid": "76952834660fcf5bc7337f04213b4fe785698828"
      },
      "cell_type": "code",
      "source": "df = pd.read_csv('../input/anv.csv', delimiter=',')\ndf.head(1)",
      "execution_count": null,
      "outputs": []
    },
    {
      "metadata": {
        "_uuid": "749275419277bb0da68c6cfc4805f33e15afec42"
      },
      "cell_type": "markdown",
      "source": ""
    },
    {
      "metadata": {
        "_uuid": "0ab2bbc6ddf8cd030a27ffd455fdd057a22e63fa"
      },
      "cell_type": "markdown",
      "source": ""
    },
    {
      "metadata": {
        "_uuid": "069c0411a2874da42107022b9d675ed2e6db3605"
      },
      "cell_type": "markdown",
      "source": ""
    },
    {
      "metadata": {
        "_uuid": "2053ba941de497ba2c559cc14f575da3e8c3cf38"
      },
      "cell_type": "markdown",
      "source": ""
    }
  ],
  "metadata": {
    "language_info": {
      "name": "python",
      "version": "3.6.6",
      "mimetype": "text/x-python",
      "codemirror_mode": {
        "name": "ipython",
        "version": 3
      },
      "pygments_lexer": "ipython3",
      "nbconvert_exporter": "python",
      "file_extension": ".py"
    },
    "kernelspec": {
      "display_name": "Python 3",
      "language": "python",
      "name": "python3"
    }
  },
  "nbformat": 4,
  "nbformat_minor": 1
}