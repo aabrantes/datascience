{
 "cells": [
  {
   "cell_type": "markdown",
   "metadata": {},
   "source": [
    "# Nos EUA, o número 911 é destinado à emergências. O Kaggle disponibilizou dados de ligações para o serviço:\n",
    "\n",
    "    lat: Variável String, Latitude\n",
    "    lng: Variável String, Longitude\n",
    "    desc: Variável String, Descrição da Chamada de Emergência\n",
    "    zip: Variável String, CEP\n",
    "    título: Variável String, Título\n",
    "    timeStamp: Variável String, AAAA-MM-DD HH: MM: SS\n",
    "    twp: Variável String, Township\n",
    "    addr: Variável String, Endereço\n",
    "    e: Variável String, variável Dummy (sempre 1)\n",
    "    \n",
    "    Siglas:\n",
    "    \n",
    "    EMS\temergency medical service\n",
    "    \n",
    "\n"
   ]
  },
  {
   "cell_type": "code",
   "execution_count": 50,
   "metadata": {},
   "outputs": [],
   "source": [
    "import pandas as pd\n",
    "import numpy as np\n",
    "import calendar\n",
    "import matplotlib\n",
    "import matplotlib.pyplot as plt"
   ]
  },
  {
   "cell_type": "code",
   "execution_count": 45,
   "metadata": {},
   "outputs": [],
   "source": [
    "call = pd.read_csv('/temp/911.csv', ',')"
   ]
  },
  {
   "cell_type": "code",
   "execution_count": 46,
   "metadata": {},
   "outputs": [],
   "source": [
    "#primeiros tratamentos no dataset\n",
    "\n",
    "#excluindo variaveis que não serão utéis\n",
    "df = call.drop(['e'], axis=1, inplace=False)\n",
    "df = df.drop(['zip'], axis=1, inplace=False)\n",
    "\n",
    "#criando variavel reason / motivos\n",
    "df['Type'] = call['title'].str.split(':',1, expand=True)[0]\n",
    "df['Reason'] = call['title'].str.split(':',1, expand=True)[1]\n",
    "#cria lista com os nomes da semana\n",
    "wday = list(calendar.day_abbr)\n",
    "\n",
    "#convertendo para datatime e criando as variaveis de hour / hora, day / dia, month / mes, year / ano, week / semana\n",
    "df['timeStamp'] = pd.to_datetime(call['timeStamp'])\n",
    "df['Hour'] = df['timeStamp'].apply(lambda x: x.hour)\n",
    "df['Day'] = df['timeStamp'].apply(lambda x: x.day)\n",
    "df['Month'] = df['timeStamp'].apply(lambda x: x.month)\n",
    "df['Year'] = df['timeStamp'].apply(lambda x: x.year)\n",
    "df['Week'] = df['timeStamp'].apply(lambda x: wday[x.weekday()])\n",
    "\n"
   ]
  },
  {
   "cell_type": "code",
   "execution_count": 49,
   "metadata": {},
   "outputs": [
    {
     "data": {
      "text/html": [
       "<div>\n",
       "<style scoped>\n",
       "    .dataframe tbody tr th:only-of-type {\n",
       "        vertical-align: middle;\n",
       "    }\n",
       "\n",
       "    .dataframe tbody tr th {\n",
       "        vertical-align: top;\n",
       "    }\n",
       "\n",
       "    .dataframe thead th {\n",
       "        text-align: right;\n",
       "    }\n",
       "</style>\n",
       "<table border=\"1\" class=\"dataframe\">\n",
       "  <thead>\n",
       "    <tr style=\"text-align: right;\">\n",
       "      <th></th>\n",
       "      <th>lat</th>\n",
       "      <th>lng</th>\n",
       "      <th>desc</th>\n",
       "      <th>title</th>\n",
       "      <th>timeStamp</th>\n",
       "      <th>twp</th>\n",
       "      <th>addr</th>\n",
       "      <th>Type</th>\n",
       "      <th>Reason</th>\n",
       "      <th>Hour</th>\n",
       "      <th>Day</th>\n",
       "      <th>Month</th>\n",
       "      <th>Year</th>\n",
       "      <th>Week</th>\n",
       "    </tr>\n",
       "  </thead>\n",
       "  <tbody>\n",
       "    <tr>\n",
       "      <th>0</th>\n",
       "      <td>40.297876</td>\n",
       "      <td>-75.581294</td>\n",
       "      <td>REINDEER CT &amp; DEAD END;  NEW HANOVER; Station ...</td>\n",
       "      <td>EMS: BACK PAINS/INJURY</td>\n",
       "      <td>2015-12-10 17:40:00</td>\n",
       "      <td>NEW HANOVER</td>\n",
       "      <td>REINDEER CT &amp; DEAD END</td>\n",
       "      <td>EMS</td>\n",
       "      <td>BACK PAINS/INJURY</td>\n",
       "      <td>17</td>\n",
       "      <td>10</td>\n",
       "      <td>12</td>\n",
       "      <td>2015</td>\n",
       "      <td>Thu</td>\n",
       "    </tr>\n",
       "  </tbody>\n",
       "</table>\n",
       "</div>"
      ],
      "text/plain": [
       "         lat        lng                                               desc  \\\n",
       "0  40.297876 -75.581294  REINDEER CT & DEAD END;  NEW HANOVER; Station ...   \n",
       "\n",
       "                    title           timeStamp          twp  \\\n",
       "0  EMS: BACK PAINS/INJURY 2015-12-10 17:40:00  NEW HANOVER   \n",
       "\n",
       "                     addr Type              Reason  Hour  Day  Month  Year  \\\n",
       "0  REINDEER CT & DEAD END  EMS   BACK PAINS/INJURY    17   10     12  2015   \n",
       "\n",
       "  Week  \n",
       "0  Thu  "
      ]
     },
     "execution_count": 49,
     "metadata": {},
     "output_type": "execute_result"
    }
   ],
   "source": [
    "df.head(1)"
   ]
  },
  {
   "cell_type": "code",
   "execution_count": 48,
   "metadata": {},
   "outputs": [
    {
     "data": {
      "text/html": [
       "<div>\n",
       "<style scoped>\n",
       "    .dataframe tbody tr th:only-of-type {\n",
       "        vertical-align: middle;\n",
       "    }\n",
       "\n",
       "    .dataframe tbody tr th {\n",
       "        vertical-align: top;\n",
       "    }\n",
       "\n",
       "    .dataframe thead th {\n",
       "        text-align: right;\n",
       "    }\n",
       "</style>\n",
       "<table border=\"1\" class=\"dataframe\">\n",
       "  <thead>\n",
       "    <tr style=\"text-align: right;\">\n",
       "      <th></th>\n",
       "      <th>Variavel</th>\n",
       "      <th>Classificação</th>\n",
       "    </tr>\n",
       "  </thead>\n",
       "  <tbody>\n",
       "    <tr>\n",
       "      <th>0</th>\n",
       "      <td>Type</td>\n",
       "      <td>Qualitativa Nominal</td>\n",
       "    </tr>\n",
       "    <tr>\n",
       "      <th>1</th>\n",
       "      <td>Reason</td>\n",
       "      <td>Qualitativa Nominal</td>\n",
       "    </tr>\n",
       "    <tr>\n",
       "      <th>2</th>\n",
       "      <td>Week</td>\n",
       "      <td>Qualitativa Nominal</td>\n",
       "    </tr>\n",
       "    <tr>\n",
       "      <th>3</th>\n",
       "      <td>Month</td>\n",
       "      <td>Quantitativa Discreta</td>\n",
       "    </tr>\n",
       "    <tr>\n",
       "      <th>4</th>\n",
       "      <td>Year</td>\n",
       "      <td>Quantitativa Discreta</td>\n",
       "    </tr>\n",
       "    <tr>\n",
       "      <th>5</th>\n",
       "      <td>Hour</td>\n",
       "      <td>Quantitativa Discreta</td>\n",
       "    </tr>\n",
       "  </tbody>\n",
       "</table>\n",
       "</div>"
      ],
      "text/plain": [
       "  Variavel          Classificação\n",
       "0     Type    Qualitativa Nominal\n",
       "1   Reason    Qualitativa Nominal\n",
       "2     Week    Qualitativa Nominal\n",
       "3    Month  Quantitativa Discreta\n",
       "4     Year  Quantitativa Discreta\n",
       "5     Hour  Quantitativa Discreta"
      ]
     },
     "execution_count": 48,
     "metadata": {},
     "output_type": "execute_result"
    }
   ],
   "source": [
    "resposta = [[\"Type\",\"Qualitativa Nominal\"],\n",
    "            [\"Reason\",\"Qualitativa Nominal\"],\n",
    "            [\"Week\",\"Qualitativa Nominal\"],\n",
    "            [\"Month\",\"Quantitativa Discreta\"],\n",
    "            [\"Year\",\"Quantitativa Discreta\"],\n",
    "            [\"Hour\",\"Quantitativa Discreta\"]]\n",
    "variaveis = pd.DataFrame(resposta, columns=[\"Variavel\", \"Classificação\"])\n",
    "variaveis"
   ]
  },
  {
   "cell_type": "code",
   "execution_count": null,
   "metadata": {},
   "outputs": [],
   "source": []
  },
  {
   "cell_type": "code",
   "execution_count": null,
   "metadata": {},
   "outputs": [],
   "source": []
  }
 ],
 "metadata": {
  "kernelspec": {
   "display_name": "Python 3",
   "language": "python",
   "name": "python3"
  },
  "language_info": {
   "codemirror_mode": {
    "name": "ipython",
    "version": 3
   },
   "file_extension": ".py",
   "mimetype": "text/x-python",
   "name": "python",
   "nbconvert_exporter": "python",
   "pygments_lexer": "ipython3",
   "version": "3.6.4"
  }
 },
 "nbformat": 4,
 "nbformat_minor": 2
}
